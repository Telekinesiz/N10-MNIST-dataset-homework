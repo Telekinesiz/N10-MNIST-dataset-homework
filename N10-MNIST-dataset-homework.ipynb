{
 "cells": [
  {
   "cell_type": "code",
   "execution_count": 1,
   "id": "d40202a8",
   "metadata": {},
   "outputs": [
    {
     "name": "stdout",
     "output_type": "stream",
     "text": [
      "1.12.0\n",
      "0.13.0\n"
     ]
    }
   ],
   "source": [
    "import torch\n",
    "from torch import nn\n",
    "\n",
    "import torchvision\n",
    "from torchvision import datasets\n",
    "from torchvision import transforms\n",
    "from torchvision.transforms import ToTensor\n",
    "from torch.utils.data import DataLoader\n",
    "import matplotlib.pyplot as plt\n",
    "from torchmetrics import ConfusionMatrix\n",
    "from mlxtend.plotting import plot_confusion_matrix\n",
    "from timeit import default_timer as timer\n",
    "from pathlib import Path\n",
    "from tqdm.auto import tqdm\n",
    "import requests\n",
    "\n",
    "\n",
    "\n",
    "\n",
    "print(torch.__version__)\n",
    "print(torchvision.__version__)"
   ]
  },
  {
   "cell_type": "code",
   "execution_count": 2,
   "id": "7b17cdcf",
   "metadata": {},
   "outputs": [
    {
     "name": "stdout",
     "output_type": "stream",
     "text": [
      "helper_functions.py already exists, skiping download\n"
     ]
    }
   ],
   "source": [
    "if Path('helper_functions.py').is_file():\n",
    "    print('helper_functions.py already exists, skiping download')\n",
    "else:\n",
    "    print('download helper_functions.py')\n",
    "    request = requests.get('https://raw.githubusercontent.com/mrdbourke/pytorch-deep-learning/main/helper_functions.py')\n",
    "    with open('helper_functions.py', 'wb') as f:\n",
    "        f.write(request.content)\n",
    "        \n",
    "from helper_functions import plot_predictions, plot_decision_boundary, accuracy_fn"
   ]
  },
  {
   "cell_type": "code",
   "execution_count": 3,
   "id": "25ea39f8",
   "metadata": {},
   "outputs": [
    {
     "name": "stdout",
     "output_type": "stream",
     "text": [
      "Using device: cuda\n"
     ]
    }
   ],
   "source": [
    "device = \"cuda\" if torch.cuda.is_available() else \"cpu\"\n",
    "print(f\"Using device: {device}\")"
   ]
  },
  {
   "cell_type": "code",
   "execution_count": 4,
   "id": "622bd02b",
   "metadata": {},
   "outputs": [],
   "source": [
    "train_data = datasets.MNIST(root='./data/MNIST',\n",
    "                                  train=True,\n",
    "                                  download=True,\n",
    "                                  transform=torchvision.transforms.ToTensor(),\n",
    "                                  target_transform=None\n",
    "                                  )\n",
    "test_data = datasets.MNIST(root='./data/MNIST',\n",
    "                                  train=False,\n",
    "                                  download=True,\n",
    "                                  transform=torchvision.transforms.ToTensor(),\n",
    "                                  target_transform=None\n",
    "                                  )"
   ]
  },
  {
   "cell_type": "code",
   "execution_count": 5,
   "id": "a05d4c8f",
   "metadata": {},
   "outputs": [
    {
     "name": "stdout",
     "output_type": "stream",
     "text": [
      "['0 - zero', '1 - one', '2 - two', '3 - three', '4 - four', '5 - five', '6 - six', '7 - seven', '8 - eight', '9 - nine']\n",
      "torch.Size([1, 28, 28]) torch.float32\n",
      "tensor([[[0.0000, 0.0000, 0.0000, 0.0000, 0.0000, 0.0000, 0.0000, 0.0000,\n",
      "          0.0000, 0.0000, 0.0000, 0.0000, 0.0000, 0.0000, 0.0000, 0.0000,\n",
      "          0.0000, 0.0000, 0.0000, 0.0000, 0.0000, 0.0000, 0.0000, 0.0000,\n",
      "          0.0000, 0.0000, 0.0000, 0.0000],\n",
      "         [0.0000, 0.0000, 0.0000, 0.0000, 0.0000, 0.0000, 0.0000, 0.0000,\n",
      "          0.0000, 0.0000, 0.0000, 0.0000, 0.0000, 0.0000, 0.0000, 0.0000,\n",
      "          0.0000, 0.0000, 0.0000, 0.0000, 0.0000, 0.0000, 0.0000, 0.0000,\n",
      "          0.0000, 0.0000, 0.0000, 0.0000],\n",
      "         [0.0000, 0.0000, 0.0000, 0.0000, 0.0000, 0.0000, 0.0000, 0.0000,\n",
      "          0.0000, 0.0000, 0.0000, 0.0000, 0.0000, 0.0000, 0.0000, 0.0000,\n",
      "          0.0000, 0.0000, 0.0000, 0.0000, 0.0000, 0.0000, 0.0000, 0.0000,\n",
      "          0.0000, 0.0000, 0.0000, 0.0000],\n",
      "         [0.0000, 0.0000, 0.0000, 0.0000, 0.0000, 0.0000, 0.0000, 0.0000,\n",
      "          0.0000, 0.0000, 0.0000, 0.0000, 0.0000, 0.0000, 0.0000, 0.0000,\n",
      "          0.0000, 0.0000, 0.0000, 0.0000, 0.0000, 0.0000, 0.0000, 0.0000,\n",
      "          0.0000, 0.0000, 0.0000, 0.0000],\n",
      "         [0.0000, 0.0000, 0.0000, 0.0000, 0.0000, 0.0000, 0.0000, 0.0000,\n",
      "          0.0000, 0.0000, 0.0000, 0.0000, 0.0000, 0.0000, 0.0000, 0.0000,\n",
      "          0.0000, 0.0000, 0.0000, 0.0000, 0.0000, 0.0000, 0.0000, 0.0000,\n",
      "          0.0000, 0.0000, 0.0000, 0.0000],\n",
      "         [0.0000, 0.0000, 0.0000, 0.0000, 0.0000, 0.0000, 0.0000, 0.0000,\n",
      "          0.0000, 0.0000, 0.0000, 0.0000, 0.0118, 0.0706, 0.0706, 0.0706,\n",
      "          0.4941, 0.5333, 0.6863, 0.1020, 0.6510, 1.0000, 0.9686, 0.4980,\n",
      "          0.0000, 0.0000, 0.0000, 0.0000],\n",
      "         [0.0000, 0.0000, 0.0000, 0.0000, 0.0000, 0.0000, 0.0000, 0.0000,\n",
      "          0.1176, 0.1412, 0.3686, 0.6039, 0.6667, 0.9922, 0.9922, 0.9922,\n",
      "          0.9922, 0.9922, 0.8824, 0.6745, 0.9922, 0.9490, 0.7647, 0.2510,\n",
      "          0.0000, 0.0000, 0.0000, 0.0000],\n",
      "         [0.0000, 0.0000, 0.0000, 0.0000, 0.0000, 0.0000, 0.0000, 0.1922,\n",
      "          0.9333, 0.9922, 0.9922, 0.9922, 0.9922, 0.9922, 0.9922, 0.9922,\n",
      "          0.9922, 0.9843, 0.3647, 0.3216, 0.3216, 0.2196, 0.1529, 0.0000,\n",
      "          0.0000, 0.0000, 0.0000, 0.0000],\n",
      "         [0.0000, 0.0000, 0.0000, 0.0000, 0.0000, 0.0000, 0.0000, 0.0706,\n",
      "          0.8588, 0.9922, 0.9922, 0.9922, 0.9922, 0.9922, 0.7765, 0.7137,\n",
      "          0.9686, 0.9451, 0.0000, 0.0000, 0.0000, 0.0000, 0.0000, 0.0000,\n",
      "          0.0000, 0.0000, 0.0000, 0.0000],\n",
      "         [0.0000, 0.0000, 0.0000, 0.0000, 0.0000, 0.0000, 0.0000, 0.0000,\n",
      "          0.3137, 0.6118, 0.4196, 0.9922, 0.9922, 0.8039, 0.0431, 0.0000,\n",
      "          0.1686, 0.6039, 0.0000, 0.0000, 0.0000, 0.0000, 0.0000, 0.0000,\n",
      "          0.0000, 0.0000, 0.0000, 0.0000],\n",
      "         [0.0000, 0.0000, 0.0000, 0.0000, 0.0000, 0.0000, 0.0000, 0.0000,\n",
      "          0.0000, 0.0549, 0.0039, 0.6039, 0.9922, 0.3529, 0.0000, 0.0000,\n",
      "          0.0000, 0.0000, 0.0000, 0.0000, 0.0000, 0.0000, 0.0000, 0.0000,\n",
      "          0.0000, 0.0000, 0.0000, 0.0000],\n",
      "         [0.0000, 0.0000, 0.0000, 0.0000, 0.0000, 0.0000, 0.0000, 0.0000,\n",
      "          0.0000, 0.0000, 0.0000, 0.5451, 0.9922, 0.7451, 0.0078, 0.0000,\n",
      "          0.0000, 0.0000, 0.0000, 0.0000, 0.0000, 0.0000, 0.0000, 0.0000,\n",
      "          0.0000, 0.0000, 0.0000, 0.0000],\n",
      "         [0.0000, 0.0000, 0.0000, 0.0000, 0.0000, 0.0000, 0.0000, 0.0000,\n",
      "          0.0000, 0.0000, 0.0000, 0.0431, 0.7451, 0.9922, 0.2745, 0.0000,\n",
      "          0.0000, 0.0000, 0.0000, 0.0000, 0.0000, 0.0000, 0.0000, 0.0000,\n",
      "          0.0000, 0.0000, 0.0000, 0.0000],\n",
      "         [0.0000, 0.0000, 0.0000, 0.0000, 0.0000, 0.0000, 0.0000, 0.0000,\n",
      "          0.0000, 0.0000, 0.0000, 0.0000, 0.1373, 0.9451, 0.8824, 0.6275,\n",
      "          0.4235, 0.0039, 0.0000, 0.0000, 0.0000, 0.0000, 0.0000, 0.0000,\n",
      "          0.0000, 0.0000, 0.0000, 0.0000],\n",
      "         [0.0000, 0.0000, 0.0000, 0.0000, 0.0000, 0.0000, 0.0000, 0.0000,\n",
      "          0.0000, 0.0000, 0.0000, 0.0000, 0.0000, 0.3176, 0.9412, 0.9922,\n",
      "          0.9922, 0.4667, 0.0980, 0.0000, 0.0000, 0.0000, 0.0000, 0.0000,\n",
      "          0.0000, 0.0000, 0.0000, 0.0000],\n",
      "         [0.0000, 0.0000, 0.0000, 0.0000, 0.0000, 0.0000, 0.0000, 0.0000,\n",
      "          0.0000, 0.0000, 0.0000, 0.0000, 0.0000, 0.0000, 0.1765, 0.7294,\n",
      "          0.9922, 0.9922, 0.5882, 0.1059, 0.0000, 0.0000, 0.0000, 0.0000,\n",
      "          0.0000, 0.0000, 0.0000, 0.0000],\n",
      "         [0.0000, 0.0000, 0.0000, 0.0000, 0.0000, 0.0000, 0.0000, 0.0000,\n",
      "          0.0000, 0.0000, 0.0000, 0.0000, 0.0000, 0.0000, 0.0000, 0.0627,\n",
      "          0.3647, 0.9882, 0.9922, 0.7333, 0.0000, 0.0000, 0.0000, 0.0000,\n",
      "          0.0000, 0.0000, 0.0000, 0.0000],\n",
      "         [0.0000, 0.0000, 0.0000, 0.0000, 0.0000, 0.0000, 0.0000, 0.0000,\n",
      "          0.0000, 0.0000, 0.0000, 0.0000, 0.0000, 0.0000, 0.0000, 0.0000,\n",
      "          0.0000, 0.9765, 0.9922, 0.9765, 0.2510, 0.0000, 0.0000, 0.0000,\n",
      "          0.0000, 0.0000, 0.0000, 0.0000],\n",
      "         [0.0000, 0.0000, 0.0000, 0.0000, 0.0000, 0.0000, 0.0000, 0.0000,\n",
      "          0.0000, 0.0000, 0.0000, 0.0000, 0.0000, 0.0000, 0.1804, 0.5098,\n",
      "          0.7176, 0.9922, 0.9922, 0.8118, 0.0078, 0.0000, 0.0000, 0.0000,\n",
      "          0.0000, 0.0000, 0.0000, 0.0000],\n",
      "         [0.0000, 0.0000, 0.0000, 0.0000, 0.0000, 0.0000, 0.0000, 0.0000,\n",
      "          0.0000, 0.0000, 0.0000, 0.0000, 0.1529, 0.5804, 0.8980, 0.9922,\n",
      "          0.9922, 0.9922, 0.9804, 0.7137, 0.0000, 0.0000, 0.0000, 0.0000,\n",
      "          0.0000, 0.0000, 0.0000, 0.0000],\n",
      "         [0.0000, 0.0000, 0.0000, 0.0000, 0.0000, 0.0000, 0.0000, 0.0000,\n",
      "          0.0000, 0.0000, 0.0941, 0.4471, 0.8667, 0.9922, 0.9922, 0.9922,\n",
      "          0.9922, 0.7882, 0.3059, 0.0000, 0.0000, 0.0000, 0.0000, 0.0000,\n",
      "          0.0000, 0.0000, 0.0000, 0.0000],\n",
      "         [0.0000, 0.0000, 0.0000, 0.0000, 0.0000, 0.0000, 0.0000, 0.0000,\n",
      "          0.0902, 0.2588, 0.8353, 0.9922, 0.9922, 0.9922, 0.9922, 0.7765,\n",
      "          0.3176, 0.0078, 0.0000, 0.0000, 0.0000, 0.0000, 0.0000, 0.0000,\n",
      "          0.0000, 0.0000, 0.0000, 0.0000],\n",
      "         [0.0000, 0.0000, 0.0000, 0.0000, 0.0000, 0.0000, 0.0706, 0.6706,\n",
      "          0.8588, 0.9922, 0.9922, 0.9922, 0.9922, 0.7647, 0.3137, 0.0353,\n",
      "          0.0000, 0.0000, 0.0000, 0.0000, 0.0000, 0.0000, 0.0000, 0.0000,\n",
      "          0.0000, 0.0000, 0.0000, 0.0000],\n",
      "         [0.0000, 0.0000, 0.0000, 0.0000, 0.2157, 0.6745, 0.8863, 0.9922,\n",
      "          0.9922, 0.9922, 0.9922, 0.9569, 0.5216, 0.0431, 0.0000, 0.0000,\n",
      "          0.0000, 0.0000, 0.0000, 0.0000, 0.0000, 0.0000, 0.0000, 0.0000,\n",
      "          0.0000, 0.0000, 0.0000, 0.0000],\n",
      "         [0.0000, 0.0000, 0.0000, 0.0000, 0.5333, 0.9922, 0.9922, 0.9922,\n",
      "          0.8314, 0.5294, 0.5176, 0.0627, 0.0000, 0.0000, 0.0000, 0.0000,\n",
      "          0.0000, 0.0000, 0.0000, 0.0000, 0.0000, 0.0000, 0.0000, 0.0000,\n",
      "          0.0000, 0.0000, 0.0000, 0.0000],\n",
      "         [0.0000, 0.0000, 0.0000, 0.0000, 0.0000, 0.0000, 0.0000, 0.0000,\n",
      "          0.0000, 0.0000, 0.0000, 0.0000, 0.0000, 0.0000, 0.0000, 0.0000,\n",
      "          0.0000, 0.0000, 0.0000, 0.0000, 0.0000, 0.0000, 0.0000, 0.0000,\n",
      "          0.0000, 0.0000, 0.0000, 0.0000],\n",
      "         [0.0000, 0.0000, 0.0000, 0.0000, 0.0000, 0.0000, 0.0000, 0.0000,\n",
      "          0.0000, 0.0000, 0.0000, 0.0000, 0.0000, 0.0000, 0.0000, 0.0000,\n",
      "          0.0000, 0.0000, 0.0000, 0.0000, 0.0000, 0.0000, 0.0000, 0.0000,\n",
      "          0.0000, 0.0000, 0.0000, 0.0000],\n",
      "         [0.0000, 0.0000, 0.0000, 0.0000, 0.0000, 0.0000, 0.0000, 0.0000,\n",
      "          0.0000, 0.0000, 0.0000, 0.0000, 0.0000, 0.0000, 0.0000, 0.0000,\n",
      "          0.0000, 0.0000, 0.0000, 0.0000, 0.0000, 0.0000, 0.0000, 0.0000,\n",
      "          0.0000, 0.0000, 0.0000, 0.0000]]]) 5\n"
     ]
    }
   ],
   "source": [
    "class_names = train_data.classes\n",
    "image, label = train_data[0]\n",
    "print(class_names)\n",
    "print(image.shape, image.dtype)\n",
    "print(image, label)"
   ]
  },
  {
   "cell_type": "code",
   "execution_count": 6,
   "id": "6b62b1d5",
   "metadata": {},
   "outputs": [
    {
     "data": {
      "image/png": "[encoded data removed]",
      "text/plain": [
       "<Figure size 648x648 with 25 Axes>"
      ]
     },
     "metadata": {
      "needs_background": "light"
     },
     "output_type": "display_data"
    }
   ],
   "source": [
    "torch.manual_seed(42)\n",
    "fig = plt.figure(figsize=(9,9))\n",
    "rows, cols =5, 5\n",
    "for i in range(1, rows*cols+1):\n",
    "    random_idx = torch.randint(0, len(train_data), size=[1]).item()\n",
    "    img, label =train_data[random_idx]\n",
    "    fig.add_subplot(rows, cols, i)\n",
    "    plt.imshow(img.squeeze(), cmap=\"gray\")\n",
    "    plt.title(class_names[label])\n",
    "    plt.axis(False)"
   ]
  },
  {
   "cell_type": "code",
   "execution_count": 7,
   "id": "03bf9a28",
   "metadata": {},
   "outputs": [],
   "source": [
    "BATCH_SIZE=32\n",
    "\n",
    "train_dataloader = DataLoader(dataset=train_data,\n",
    "                              batch_size=BATCH_SIZE,\n",
    "                              shuffle=True,\n",
    "                              num_workers=0)\n",
    "test_dataloader = DataLoader(dataset=test_data,\n",
    "                             batch_size=BATCH_SIZE,\n",
    "                             shuffle=False,\n",
    "                             num_workers=0)"
   ]
  },
  {
   "cell_type": "code",
   "execution_count": 8,
   "id": "7746fe3d",
   "metadata": {},
   "outputs": [],
   "source": [
    "def eval_model(model: torch.nn.Module,\n",
    "               data_loader: torch.utils.data.DataLoader,\n",
    "               loss_fn:torch.nn.Module,\n",
    "               accuracy_fn):\n",
    "    loss, acc = 0, 0\n",
    "    model.eval()\n",
    "    with torch.inference_mode():\n",
    "        for X, y in tqdm(data_loader):\n",
    "            \n",
    "            #make predictions\n",
    "            y_pred = model(X)\n",
    "            \n",
    "            #accumulate the loss anda acc valuees per batch\n",
    "            loss+= loss_fn(y_pred, y)\n",
    "            acc += accuracy_fn(y_true=y,\n",
    "                               y_pred=y_pred.argmax(dim=1))\n",
    "            \n",
    "        #scale loss and acc to find the average loss/acc per batch\n",
    "        loss = loss/len(data_loader)\n",
    "        acc = acc/len(data_loader)\n",
    "            \n",
    "    return{'model_name': model.__class__.__name__,\n",
    "           'model_loss': loss.item(),\n",
    "           'model_acc': acc}\n",
    "\n",
    "def train_step(model: torch.nn.Module,\n",
    "               data_loader: torch.utils.data.DataLoader,\n",
    "               loss_fn: torch.nn.Module,\n",
    "               optimizer: torch.optim.Optimizer,\n",
    "               accuracy_fn,\n",
    "               device: torch.device = device):\n",
    "    \n",
    "    \"\"\" Performs a training with model trying to learn on data_loader\"\"\"\n",
    "    train_loss, train_acc = 0, 0\n",
    "    \n",
    "    # put model into training mode\n",
    "    model.train()\n",
    "    \n",
    "    # Add a loop to loop through the training batches\n",
    "    for batch, (X, y) in enumerate(data_loader):\n",
    "        # put data on target device\n",
    "        X, y = X.to(device), y.to(device)\n",
    "        \n",
    "        #1 Forward pass (outputs the raw logits from the model)\n",
    "        y_pred = model(X)\n",
    "        \n",
    "        # 2 Calcualte loss and accuracy (per batch)\n",
    "        loss = loss_fn(y_pred, y)\n",
    "        train_loss += loss #accumulate train loss\n",
    "        train_acc += accuracy_fn(y_true=y,\n",
    "                                 y_pred=y_pred.argmax(dim=1)) # go from logits -> predictions labels\n",
    "        \n",
    "        #3 Optimizer zero grad\n",
    "        optimizer.zero_grad()\n",
    "        \n",
    "        #4 loss backward\n",
    "        loss.backward()\n",
    "        \n",
    "        #5 Optimizer step (update the model's parameters once per batch)\n",
    "        optimizer.step()\n",
    "            \n",
    "     #divide total train loss and accuracy by length of train dataloader\n",
    "    train_loss = train_loss / len(data_loader)\n",
    "    train_acc = train_acc / len(data_loader)\n",
    "    \n",
    "    print(f\"Train loss: {train_loss:.4f} | Train acc: {train_acc:.2f}%\")\n",
    "    \n",
    "def test_step(model: torch.nn.Module,\n",
    "              data_loader: torch.utils.data.DataLoader,\n",
    "              loss_fn: torch.nn.Module,\n",
    "              accuracy_fn,\n",
    "              device: torch.device = device):\n",
    "             \n",
    "    \"\"\"Performs a testing loop step on model going over data_loader\"\"\"         \n",
    "    \n",
    "    test_loss, test_acc = 0, 0\n",
    "    \n",
    "    # put model into evaluation mode\n",
    "    model.eval()\n",
    "    \n",
    "    # Turn on inference mode context manager\n",
    "    with torch.inference_mode():\n",
    "        for X_test, y_test in data_loader:\n",
    "            \n",
    "            #Send data to the target device\n",
    "            X_test, y_test = X_test.to(device), y_test.to(device)\n",
    "              \n",
    "            #1 Forward pass\n",
    "            test_pred = model(X_test)\n",
    "            #2 Calculate the loss\n",
    "            test_loss += loss_fn(test_pred, y_test)\n",
    "            # Calculate the accuracy\n",
    "            test_acc += accuracy_fn(y_true=y_test, \n",
    "                                    y_pred=test_pred.argmax(dim=1)) # go from logits -> predictions labels\n",
    "            \n",
    "    #Calculate test loss \n",
    "    test_loss = test_loss / len(data_loader)\n",
    "    \n",
    "    #calculate test acc \n",
    "    test_acc = test_acc / len(data_loader)\n",
    "    \n",
    "    #print out what happenening\n",
    "    print(f\"Test loss: {test_loss:.4f}, Test acc: {test_acc:.4f}\")"
   ]
  },
  {
   "cell_type": "code",
   "execution_count": 9,
   "id": "28ba4df9",
   "metadata": {},
   "outputs": [],
   "source": [
    "class MNISTModelv0(nn.Module):\n",
    "    def __init__(self, input_shape:int,\n",
    "                 hidden_units:int,\n",
    "                 output_shape:int):\n",
    "\n",
    "\n",
    "        super().__init__()\n",
    "        self.conv_block_1 = nn.Sequential(nn.Conv2d(in_channels=input_shape,\n",
    "                                                      out_channels=hidden_units,\n",
    "                                                      kernel_size=3,\n",
    "                                                      stride=1,\n",
    "                                                      padding=1),\n",
    "                                            nn.ReLU(),\n",
    "                                            nn.Conv2d(in_channels=hidden_units,\n",
    "                                                      out_channels=hidden_units,\n",
    "                                                      kernel_size=3,\n",
    "                                                      stride=1,\n",
    "                                                      padding=1),\n",
    "                                            nn.ReLU(),\n",
    "                                            nn.MaxPool2d(kernel_size=2, stride=2)   \n",
    "                                            )\n",
    "        \n",
    "        self.conv_block_2 = nn.Sequential(nn.Conv2d(in_channels=hidden_units,\n",
    "                                                      out_channels=hidden_units,\n",
    "                                                      kernel_size=3,\n",
    "                                                      stride=1,\n",
    "                                                      padding=1),\n",
    "                                            nn.ReLU(),\n",
    "                                            nn.Conv2d(in_channels=hidden_units,\n",
    "                                                      out_channels=hidden_units,\n",
    "                                                      kernel_size=3,\n",
    "                                                      stride=1,\n",
    "                                                      padding=1),\n",
    "                                            nn.ReLU(),\n",
    "                                            nn.MaxPool2d(kernel_size=2, stride=2)   \n",
    "                                            )\n",
    "        \n",
    "        self.classifire = nn.Sequential(nn.Flatten(),\n",
    "                                        nn.Linear(in_features=hidden_units*7*7,\n",
    "                                                  out_features=output_shape)\n",
    "                                        )\n",
    "        \n",
    "        \n",
    "        \n",
    "    def forward(self, x):\n",
    "        x = self.conv_block_1(x)\n",
    "        #print(f\"output shape of convblock 1{x.shape}\")\n",
    "        x = self.conv_block_2(x)\n",
    "        #print(f\"output shape of convblock 2{x.shape}\")\n",
    "        x = self.classifire(x)\n",
    "        #print(f\"output shape of classifire {x.shape}\")\n",
    "        \n",
    "        return x\n"
   ]
  },
  {
   "cell_type": "code",
   "execution_count": 10,
   "id": "12959c18",
   "metadata": {},
   "outputs": [
    {
     "data": {
      "text/plain": [
       "MNISTModelv0(\n",
       "  (conv_block_1): Sequential(\n",
       "    (0): Conv2d(1, 10, kernel_size=(3, 3), stride=(1, 1), padding=(1, 1))\n",
       "    (1): ReLU()\n",
       "    (2): Conv2d(10, 10, kernel_size=(3, 3), stride=(1, 1), padding=(1, 1))\n",
       "    (3): ReLU()\n",
       "    (4): MaxPool2d(kernel_size=2, stride=2, padding=0, dilation=1, ceil_mode=False)\n",
       "  )\n",
       "  (conv_block_2): Sequential(\n",
       "    (0): Conv2d(10, 10, kernel_size=(3, 3), stride=(1, 1), padding=(1, 1))\n",
       "    (1): ReLU()\n",
       "    (2): Conv2d(10, 10, kernel_size=(3, 3), stride=(1, 1), padding=(1, 1))\n",
       "    (3): ReLU()\n",
       "    (4): MaxPool2d(kernel_size=2, stride=2, padding=0, dilation=1, ceil_mode=False)\n",
       "  )\n",
       "  (classifire): Sequential(\n",
       "    (0): Flatten(start_dim=1, end_dim=-1)\n",
       "    (1): Linear(in_features=490, out_features=10, bias=True)\n",
       "  )\n",
       ")"
      ]
     },
     "execution_count": 10,
     "metadata": {},
     "output_type": "execute_result"
    }
   ],
   "source": [
    "torch.manual_seed(42)\n",
    "model_1 = MNISTModelv0(input_shape = 1,\n",
    "                             hidden_units = 10,\n",
    "                             output_shape = len(class_names)).to(device)\n",
    "model_1"
   ]
  },
  {
   "cell_type": "code",
   "execution_count": 11,
   "id": "645fcb55",
   "metadata": {},
   "outputs": [],
   "source": [
    "def print_train_time(start: float,\n",
    "                     end:float,\n",
    "                     device: torch.device = None):\n",
    "    \"\"\"prints diffirence between start and end time\"\"\"\n",
    "    total_time = end - start\n",
    "    print(f\"Train time on: {device}: {total_time:.3f} seconds\")\n",
    "    return total_time\n",
    "\n",
    "loss_fn = nn.CrossEntropyLoss()\n",
    "optimizer = torch.optim.SGD(params=model_1.parameters(), lr=0.1)"
   ]
  },
  {
   "cell_type": "code",
   "execution_count": 12,
   "id": "8a6238b0",
   "metadata": {},
   "outputs": [
    {
     "data": {
      "application/vnd.jupyter.widget-view+json": {
       "model_id": "4c7cefec2cdd4c12b13b447f98b83549",
       "version_major": 2,
       "version_minor": 0
      },
      "text/plain": [
       "  0%|          | 0/5 [00:00<?, ?it/s]"
      ]
     },
     "metadata": {},
     "output_type": "display_data"
    },
    {
     "name": "stdout",
     "output_type": "stream",
     "text": [
      "epoch: 0\n",
      "--------\n",
      "Train loss: 0.2659 | Train acc: 91.31%\n",
      "Test loss: 0.0772, Test acc: 97.5739\n",
      "epoch: 1\n",
      "--------\n",
      "Train loss: 0.0694 | Train acc: 97.86%\n",
      "Test loss: 0.0428, Test acc: 98.5923\n",
      "epoch: 2\n",
      "--------\n",
      "Train loss: 0.0541 | Train acc: 98.31%\n",
      "Test loss: 0.0467, Test acc: 98.4724\n",
      "epoch: 3\n",
      "--------\n",
      "Train loss: 0.0452 | Train acc: 98.59%\n",
      "Test loss: 0.0434, Test acc: 98.5623\n",
      "epoch: 4\n",
      "--------\n",
      "Train loss: 0.0400 | Train acc: 98.69%\n",
      "Test loss: 0.0338, Test acc: 98.9018\n",
      "Train time on: cuda:0: 99.286 seconds\n"
     ]
    }
   ],
   "source": [
    "train_time_start_on_gpu = timer()\n",
    "\n",
    "epochs=5\n",
    "\n",
    "for epoch in tqdm(range(epochs)):\n",
    "    print(f\"epoch: {epoch}\\n--------\")\n",
    "    train_step(model=model_1,\n",
    "               data_loader=train_dataloader,\n",
    "               loss_fn=loss_fn,\n",
    "               optimizer=optimizer,\n",
    "               accuracy_fn=accuracy_fn,\n",
    "               device=device)\n",
    "    test_step(model=model_1,\n",
    "              data_loader=test_dataloader,\n",
    "              loss_fn=loss_fn,\n",
    "              accuracy_fn=accuracy_fn,\n",
    "              device=device)\n",
    "    \n",
    "train_time_end_on_gpu = timer()\n",
    "total_train_time_model_1 = print_train_time(start = train_time_start_on_gpu,\n",
    "                                            end = train_time_end_on_gpu,\n",
    "                                            device=str(next(model_1.parameters()).device))"
   ]
  },
  {
   "cell_type": "code",
   "execution_count": 13,
   "id": "3096e352",
   "metadata": {},
   "outputs": [
    {
     "data": {
      "application/vnd.jupyter.widget-view+json": {
       "model_id": "571134a79db8488c8551076c735fa26e",
       "version_major": 2,
       "version_minor": 0
      },
      "text/plain": [
       "Making predictions...:   0%|          | 0/313 [00:00<?, ?it/s]"
      ]
     },
     "metadata": {},
     "output_type": "display_data"
    },
    {
     "data": {
      "text/plain": [
       "tensor([7, 2, 1, 0, 4, 1, 8, 9, 8, 8])"
      ]
     },
     "execution_count": 13,
     "metadata": {},
     "output_type": "execute_result"
    }
   ],
   "source": [
    "#make predictions\n",
    "y_preds = []\n",
    "model_1.eval()\n",
    "with torch.inference_mode():\n",
    "    for X, y in tqdm(test_dataloader, desc=\"Making predictions...\"):\n",
    "        #send the data nad targets to target device\n",
    "        X, y = X.to(device), y.to(device)\n",
    "        #forward pass\n",
    "        y_logit = model_1(X)\n",
    "        #turn predictions from logits\n",
    "        y_pred= torch.softmax(y_logit.squeeze(), dim=0).argmax(dim=1)\n",
    "        # put predictions on CPU for evaluation\n",
    "        y_preds.append(y_pred.cpu())\n",
    "        \n",
    "y_pred_tensor = torch.cat(y_preds)\n",
    "y_pred_tensor[:10]"
   ]
  },
  {
   "cell_type": "code",
   "execution_count": 14,
   "id": "61eb0bc7",
   "metadata": {},
   "outputs": [
    {
     "data": {
      "image/png": "[encoded data removed]",
      "text/plain": [
       "<Figure size 720x504 with 1 Axes>"
      ]
     },
     "metadata": {
      "needs_background": "light"
     },
     "output_type": "display_data"
    }
   ],
   "source": [
    "#setup confusion matrix\n",
    "confmat = ConfusionMatrix(num_classes=len(class_names))\n",
    "confmat_tensor = confmat(preds=y_pred_tensor,\n",
    "                        target=test_data.targets)\n",
    "confmat_tensor\n",
    "fig, ax = plot_confusion_matrix(conf_mat=confmat_tensor.numpy(),\n",
    "                                class_names = class_names,\n",
    "                                figsize=(10,7)\n",
    "                               )"
   ]
  },
  {
   "cell_type": "code",
   "execution_count": null,
   "id": "4f2c4a45",
   "metadata": {},
   "outputs": [],
   "source": []
  }
 ],
 "metadata": {
  "kernelspec": {
   "display_name": "Python 3 (ipykernel)",
   "language": "python",
   "name": "python3"
  },
  "language_info": {
   "codemirror_mode": {
    "name": "ipython",
    "version": 3
   },
   "file_extension": ".py",
   "mimetype": "text/x-python",
   "name": "python",
   "nbconvert_exporter": "python",
   "pygments_lexer": "ipython3",
   "version": "3.9.12"
  }
 },
 "nbformat": 4,
 "nbformat_minor": 5
}
